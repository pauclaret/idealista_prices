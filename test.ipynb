{
 "cells": [
  {
   "cell_type": "markdown",
   "id": "bf9cf93e",
   "metadata": {},
   "source": [
    "# Análisis Idealista Barcelona"
   ]
  },
  {
   "cell_type": "markdown",
   "id": "4b20cb48",
   "metadata": {},
   "source": [
    "### Importar pandas y numpy y leer el csv:"
   ]
  },
  {
   "cell_type": "code",
   "execution_count": 1,
   "id": "95ef92e6",
   "metadata": {},
   "outputs": [],
   "source": [
    "import pandas as pd\n",
    "import numpy as np"
   ]
  },
  {
   "cell_type": "code",
   "execution_count": 2,
   "id": "9f53e814",
   "metadata": {},
   "outputs": [
    {
     "data": {
      "text/html": [
       "<div>\n",
       "<style scoped>\n",
       "    .dataframe tbody tr th:only-of-type {\n",
       "        vertical-align: middle;\n",
       "    }\n",
       "\n",
       "    .dataframe tbody tr th {\n",
       "        vertical-align: top;\n",
       "    }\n",
       "\n",
       "    .dataframe thead th {\n",
       "        text-align: right;\n",
       "    }\n",
       "</style>\n",
       "<table border=\"1\" class=\"dataframe\">\n",
       "  <thead>\n",
       "    <tr style=\"text-align: right;\">\n",
       "      <th></th>\n",
       "      <th>city</th>\n",
       "      <th>district</th>\n",
       "      <th>neighborhood</th>\n",
       "      <th>condition</th>\n",
       "      <th>type</th>\n",
       "      <th>rooms</th>\n",
       "      <th>area_m2</th>\n",
       "      <th>lift</th>\n",
       "      <th>views</th>\n",
       "      <th>floor</th>\n",
       "      <th>prices</th>\n",
       "    </tr>\n",
       "  </thead>\n",
       "  <tbody>\n",
       "    <tr>\n",
       "      <th>0</th>\n",
       "      <td>Barcelona</td>\n",
       "      <td>Eixample</td>\n",
       "      <td>la Dreta de l'Eixample</td>\n",
       "      <td>good condition</td>\n",
       "      <td>Flat</td>\n",
       "      <td>3</td>\n",
       "      <td>351</td>\n",
       "      <td>Yes</td>\n",
       "      <td>exterior</td>\n",
       "      <td>floor 1</td>\n",
       "      <td>2300000</td>\n",
       "    </tr>\n",
       "    <tr>\n",
       "      <th>1</th>\n",
       "      <td>Barcelona</td>\n",
       "      <td>Sarrià-Sant Gervasi</td>\n",
       "      <td>Sant Gervasi - Galvany</td>\n",
       "      <td>good condition</td>\n",
       "      <td>Flat</td>\n",
       "      <td>5</td>\n",
       "      <td>298</td>\n",
       "      <td>Yes</td>\n",
       "      <td>exterior</td>\n",
       "      <td>floor 3</td>\n",
       "      <td>1750000</td>\n",
       "    </tr>\n",
       "    <tr>\n",
       "      <th>2</th>\n",
       "      <td>Barcelona</td>\n",
       "      <td>Eixample</td>\n",
       "      <td>Sant Antoni</td>\n",
       "      <td>good condition</td>\n",
       "      <td>Penthouse</td>\n",
       "      <td>2</td>\n",
       "      <td>90</td>\n",
       "      <td>Yes</td>\n",
       "      <td>exterior</td>\n",
       "      <td>floor 7</td>\n",
       "      <td>590000</td>\n",
       "    </tr>\n",
       "    <tr>\n",
       "      <th>3</th>\n",
       "      <td>Barcelona</td>\n",
       "      <td>Eixample</td>\n",
       "      <td>la Dreta de l'Eixample</td>\n",
       "      <td>good condition</td>\n",
       "      <td>Flat</td>\n",
       "      <td>2</td>\n",
       "      <td>130</td>\n",
       "      <td>Yes</td>\n",
       "      <td>exterior</td>\n",
       "      <td>floor 1</td>\n",
       "      <td>450000</td>\n",
       "    </tr>\n",
       "    <tr>\n",
       "      <th>4</th>\n",
       "      <td>Barcelona</td>\n",
       "      <td>Horta-Guinardó</td>\n",
       "      <td>Can Baró</td>\n",
       "      <td>good condition</td>\n",
       "      <td>Terraced</td>\n",
       "      <td>3</td>\n",
       "      <td>110</td>\n",
       "      <td>No</td>\n",
       "      <td>exterior</td>\n",
       "      <td>Multiple</td>\n",
       "      <td>430000</td>\n",
       "    </tr>\n",
       "  </tbody>\n",
       "</table>\n",
       "</div>"
      ],
      "text/plain": [
       "        city             district            neighborhood       condition  \\\n",
       "0  Barcelona             Eixample  la Dreta de l'Eixample  good condition   \n",
       "1  Barcelona  Sarrià-Sant Gervasi  Sant Gervasi - Galvany  good condition   \n",
       "2  Barcelona             Eixample             Sant Antoni  good condition   \n",
       "3  Barcelona             Eixample  la Dreta de l'Eixample  good condition   \n",
       "4  Barcelona       Horta-Guinardó                Can Baró  good condition   \n",
       "\n",
       "        type  rooms  area_m2 lift     views     floor   prices  \n",
       "0       Flat      3      351  Yes  exterior   floor 1  2300000  \n",
       "1       Flat      5      298  Yes  exterior   floor 3  1750000  \n",
       "2  Penthouse      2       90  Yes  exterior   floor 7   590000  \n",
       "3       Flat      2      130  Yes  exterior   floor 1   450000  \n",
       "4   Terraced      3      110   No  exterior  Multiple   430000  "
      ]
     },
     "execution_count": 2,
     "metadata": {},
     "output_type": "execute_result"
    }
   ],
   "source": [
    "df = pd.read_csv(\"../datos/Barcelona_Idealista.csv\", index_col=0)\n",
    "\n",
    "df.head()"
   ]
  },
  {
   "cell_type": "markdown",
   "id": "09c999fd",
   "metadata": {},
   "source": [
    "### Borrar columnas innecesarias:"
   ]
  },
  {
   "cell_type": "code",
   "execution_count": 3,
   "id": "966433b5",
   "metadata": {},
   "outputs": [
    {
     "data": {
      "text/html": [
       "<div>\n",
       "<style scoped>\n",
       "    .dataframe tbody tr th:only-of-type {\n",
       "        vertical-align: middle;\n",
       "    }\n",
       "\n",
       "    .dataframe tbody tr th {\n",
       "        vertical-align: top;\n",
       "    }\n",
       "\n",
       "    .dataframe thead th {\n",
       "        text-align: right;\n",
       "    }\n",
       "</style>\n",
       "<table border=\"1\" class=\"dataframe\">\n",
       "  <thead>\n",
       "    <tr style=\"text-align: right;\">\n",
       "      <th></th>\n",
       "      <th>district</th>\n",
       "      <th>neighborhood</th>\n",
       "      <th>condition</th>\n",
       "      <th>type</th>\n",
       "      <th>rooms</th>\n",
       "      <th>area_m2</th>\n",
       "      <th>lift</th>\n",
       "      <th>views</th>\n",
       "      <th>floor</th>\n",
       "      <th>prices</th>\n",
       "    </tr>\n",
       "  </thead>\n",
       "  <tbody>\n",
       "    <tr>\n",
       "      <th>0</th>\n",
       "      <td>Eixample</td>\n",
       "      <td>la Dreta de l'Eixample</td>\n",
       "      <td>good condition</td>\n",
       "      <td>Flat</td>\n",
       "      <td>3</td>\n",
       "      <td>351</td>\n",
       "      <td>Yes</td>\n",
       "      <td>exterior</td>\n",
       "      <td>floor 1</td>\n",
       "      <td>2300000</td>\n",
       "    </tr>\n",
       "    <tr>\n",
       "      <th>1</th>\n",
       "      <td>Sarrià-Sant Gervasi</td>\n",
       "      <td>Sant Gervasi - Galvany</td>\n",
       "      <td>good condition</td>\n",
       "      <td>Flat</td>\n",
       "      <td>5</td>\n",
       "      <td>298</td>\n",
       "      <td>Yes</td>\n",
       "      <td>exterior</td>\n",
       "      <td>floor 3</td>\n",
       "      <td>1750000</td>\n",
       "    </tr>\n",
       "    <tr>\n",
       "      <th>2</th>\n",
       "      <td>Eixample</td>\n",
       "      <td>Sant Antoni</td>\n",
       "      <td>good condition</td>\n",
       "      <td>Penthouse</td>\n",
       "      <td>2</td>\n",
       "      <td>90</td>\n",
       "      <td>Yes</td>\n",
       "      <td>exterior</td>\n",
       "      <td>floor 7</td>\n",
       "      <td>590000</td>\n",
       "    </tr>\n",
       "    <tr>\n",
       "      <th>3</th>\n",
       "      <td>Eixample</td>\n",
       "      <td>la Dreta de l'Eixample</td>\n",
       "      <td>good condition</td>\n",
       "      <td>Flat</td>\n",
       "      <td>2</td>\n",
       "      <td>130</td>\n",
       "      <td>Yes</td>\n",
       "      <td>exterior</td>\n",
       "      <td>floor 1</td>\n",
       "      <td>450000</td>\n",
       "    </tr>\n",
       "    <tr>\n",
       "      <th>4</th>\n",
       "      <td>Horta-Guinardó</td>\n",
       "      <td>Can Baró</td>\n",
       "      <td>good condition</td>\n",
       "      <td>Terraced</td>\n",
       "      <td>3</td>\n",
       "      <td>110</td>\n",
       "      <td>No</td>\n",
       "      <td>exterior</td>\n",
       "      <td>Multiple</td>\n",
       "      <td>430000</td>\n",
       "    </tr>\n",
       "  </tbody>\n",
       "</table>\n",
       "</div>"
      ],
      "text/plain": [
       "              district            neighborhood       condition       type  \\\n",
       "0             Eixample  la Dreta de l'Eixample  good condition       Flat   \n",
       "1  Sarrià-Sant Gervasi  Sant Gervasi - Galvany  good condition       Flat   \n",
       "2             Eixample             Sant Antoni  good condition  Penthouse   \n",
       "3             Eixample  la Dreta de l'Eixample  good condition       Flat   \n",
       "4       Horta-Guinardó                Can Baró  good condition   Terraced   \n",
       "\n",
       "   rooms  area_m2 lift     views     floor   prices  \n",
       "0      3      351  Yes  exterior   floor 1  2300000  \n",
       "1      5      298  Yes  exterior   floor 3  1750000  \n",
       "2      2       90  Yes  exterior   floor 7   590000  \n",
       "3      2      130  Yes  exterior   floor 1   450000  \n",
       "4      3      110   No  exterior  Multiple   430000  "
      ]
     },
     "execution_count": 3,
     "metadata": {},
     "output_type": "execute_result"
    }
   ],
   "source": [
    "eliminar = [\"city\"]\n",
    "\n",
    "df = df.drop(eliminar, axis = 1)\n",
    "\n",
    "df.head()"
   ]
  },
  {
   "cell_type": "markdown",
   "id": "655fd4ef",
   "metadata": {},
   "source": [
    "### Análisis exploratorio básico:"
   ]
  },
  {
   "cell_type": "code",
   "execution_count": 4,
   "id": "297941b5",
   "metadata": {},
   "outputs": [
    {
     "data": {
      "text/plain": [
       "district        object\n",
       "neighborhood    object\n",
       "condition       object\n",
       "type            object\n",
       "rooms            int64\n",
       "area_m2          int64\n",
       "lift            object\n",
       "views           object\n",
       "floor           object\n",
       "prices           int64\n",
       "dtype: object"
      ]
     },
     "execution_count": 4,
     "metadata": {},
     "output_type": "execute_result"
    }
   ],
   "source": [
    "df.dtypes"
   ]
  },
  {
   "cell_type": "code",
   "execution_count": 5,
   "id": "85bdc6a7",
   "metadata": {},
   "outputs": [
    {
     "name": "stdout",
     "output_type": "stream",
     "text": [
      "<class 'pandas.core.frame.DataFrame'>\n",
      "Int64Index: 3265 entries, 0 to 3264\n",
      "Data columns (total 10 columns):\n",
      " #   Column        Non-Null Count  Dtype \n",
      "---  ------        --------------  ----- \n",
      " 0   district      3265 non-null   object\n",
      " 1   neighborhood  3265 non-null   object\n",
      " 2   condition     3265 non-null   object\n",
      " 3   type          3265 non-null   object\n",
      " 4   rooms         3265 non-null   int64 \n",
      " 5   area_m2       3265 non-null   int64 \n",
      " 6   lift          3265 non-null   object\n",
      " 7   views         3265 non-null   object\n",
      " 8   floor         3265 non-null   object\n",
      " 9   prices        3265 non-null   int64 \n",
      "dtypes: int64(3), object(7)\n",
      "memory usage: 280.6+ KB\n"
     ]
    }
   ],
   "source": [
    "df.info()"
   ]
  },
  {
   "cell_type": "code",
   "execution_count": 6,
   "id": "66aed6bb",
   "metadata": {},
   "outputs": [
    {
     "data": {
      "text/plain": [
       "(3265, 10)"
      ]
     },
     "execution_count": 6,
     "metadata": {},
     "output_type": "execute_result"
    }
   ],
   "source": [
    "df.shape"
   ]
  },
  {
   "cell_type": "code",
   "execution_count": 7,
   "id": "b91853b7",
   "metadata": {},
   "outputs": [
    {
     "data": {
      "text/html": [
       "<div>\n",
       "<style scoped>\n",
       "    .dataframe tbody tr th:only-of-type {\n",
       "        vertical-align: middle;\n",
       "    }\n",
       "\n",
       "    .dataframe tbody tr th {\n",
       "        vertical-align: top;\n",
       "    }\n",
       "\n",
       "    .dataframe thead th {\n",
       "        text-align: right;\n",
       "    }\n",
       "</style>\n",
       "<table border=\"1\" class=\"dataframe\">\n",
       "  <thead>\n",
       "    <tr style=\"text-align: right;\">\n",
       "      <th></th>\n",
       "      <th>count</th>\n",
       "      <th>mean</th>\n",
       "      <th>std</th>\n",
       "      <th>min</th>\n",
       "      <th>25%</th>\n",
       "      <th>50%</th>\n",
       "      <th>75%</th>\n",
       "      <th>max</th>\n",
       "    </tr>\n",
       "  </thead>\n",
       "  <tbody>\n",
       "    <tr>\n",
       "      <th>rooms</th>\n",
       "      <td>3265.0</td>\n",
       "      <td>3.160796</td>\n",
       "      <td>1.325257</td>\n",
       "      <td>1.0</td>\n",
       "      <td>2.0</td>\n",
       "      <td>3.0</td>\n",
       "      <td>4.0</td>\n",
       "      <td>13.0</td>\n",
       "    </tr>\n",
       "    <tr>\n",
       "      <th>area_m2</th>\n",
       "      <td>3265.0</td>\n",
       "      <td>121.566616</td>\n",
       "      <td>92.721515</td>\n",
       "      <td>20.0</td>\n",
       "      <td>72.0</td>\n",
       "      <td>93.0</td>\n",
       "      <td>135.0</td>\n",
       "      <td>900.0</td>\n",
       "    </tr>\n",
       "    <tr>\n",
       "      <th>prices</th>\n",
       "      <td>3265.0</td>\n",
       "      <td>600419.972129</td>\n",
       "      <td>652266.142930</td>\n",
       "      <td>49000.0</td>\n",
       "      <td>279900.0</td>\n",
       "      <td>419000.0</td>\n",
       "      <td>655000.0</td>\n",
       "      <td>12000000.0</td>\n",
       "    </tr>\n",
       "  </tbody>\n",
       "</table>\n",
       "</div>"
      ],
      "text/plain": [
       "          count           mean            std      min       25%       50%  \\\n",
       "rooms    3265.0       3.160796       1.325257      1.0       2.0       3.0   \n",
       "area_m2  3265.0     121.566616      92.721515     20.0      72.0      93.0   \n",
       "prices   3265.0  600419.972129  652266.142930  49000.0  279900.0  419000.0   \n",
       "\n",
       "              75%         max  \n",
       "rooms         4.0        13.0  \n",
       "area_m2     135.0       900.0  \n",
       "prices   655000.0  12000000.0  "
      ]
     },
     "execution_count": 7,
     "metadata": {},
     "output_type": "execute_result"
    }
   ],
   "source": [
    "df.describe().T"
   ]
  },
  {
   "cell_type": "code",
   "execution_count": 8,
   "id": "2bf7d833",
   "metadata": {},
   "outputs": [
    {
     "data": {
      "text/html": [
       "<div>\n",
       "<style scoped>\n",
       "    .dataframe tbody tr th:only-of-type {\n",
       "        vertical-align: middle;\n",
       "    }\n",
       "\n",
       "    .dataframe tbody tr th {\n",
       "        vertical-align: top;\n",
       "    }\n",
       "\n",
       "    .dataframe thead th {\n",
       "        text-align: right;\n",
       "    }\n",
       "</style>\n",
       "<table border=\"1\" class=\"dataframe\">\n",
       "  <thead>\n",
       "    <tr style=\"text-align: right;\">\n",
       "      <th></th>\n",
       "      <th>count</th>\n",
       "      <th>unique</th>\n",
       "      <th>top</th>\n",
       "      <th>freq</th>\n",
       "    </tr>\n",
       "  </thead>\n",
       "  <tbody>\n",
       "    <tr>\n",
       "      <th>district</th>\n",
       "      <td>3265</td>\n",
       "      <td>10</td>\n",
       "      <td>Eixample</td>\n",
       "      <td>788</td>\n",
       "    </tr>\n",
       "    <tr>\n",
       "      <th>neighborhood</th>\n",
       "      <td>3265</td>\n",
       "      <td>65</td>\n",
       "      <td>la Dreta de l'Eixample</td>\n",
       "      <td>241</td>\n",
       "    </tr>\n",
       "    <tr>\n",
       "      <th>condition</th>\n",
       "      <td>3265</td>\n",
       "      <td>3</td>\n",
       "      <td>good condition</td>\n",
       "      <td>1355</td>\n",
       "    </tr>\n",
       "    <tr>\n",
       "      <th>type</th>\n",
       "      <td>3265</td>\n",
       "      <td>8</td>\n",
       "      <td>Flat</td>\n",
       "      <td>2751</td>\n",
       "    </tr>\n",
       "    <tr>\n",
       "      <th>lift</th>\n",
       "      <td>3265</td>\n",
       "      <td>2</td>\n",
       "      <td>Yes</td>\n",
       "      <td>2727</td>\n",
       "    </tr>\n",
       "    <tr>\n",
       "      <th>views</th>\n",
       "      <td>3265</td>\n",
       "      <td>2</td>\n",
       "      <td>exterior</td>\n",
       "      <td>3098</td>\n",
       "    </tr>\n",
       "    <tr>\n",
       "      <th>floor</th>\n",
       "      <td>3265</td>\n",
       "      <td>20</td>\n",
       "      <td>floor 1</td>\n",
       "      <td>681</td>\n",
       "    </tr>\n",
       "  </tbody>\n",
       "</table>\n",
       "</div>"
      ],
      "text/plain": [
       "             count unique                     top  freq\n",
       "district      3265     10                Eixample   788\n",
       "neighborhood  3265     65  la Dreta de l'Eixample   241\n",
       "condition     3265      3          good condition  1355\n",
       "type          3265      8                    Flat  2751\n",
       "lift          3265      2                     Yes  2727\n",
       "views         3265      2                exterior  3098\n",
       "floor         3265     20                 floor 1   681"
      ]
     },
     "execution_count": 8,
     "metadata": {},
     "output_type": "execute_result"
    }
   ],
   "source": [
    "df.describe(include = \"object\").T"
   ]
  },
  {
   "cell_type": "code",
   "execution_count": 9,
   "id": "47c17c66",
   "metadata": {},
   "outputs": [
    {
     "data": {
      "text/plain": [
       "district        0\n",
       "neighborhood    0\n",
       "condition       0\n",
       "type            0\n",
       "rooms           0\n",
       "area_m2         0\n",
       "lift            0\n",
       "views           0\n",
       "floor           0\n",
       "prices          0\n",
       "dtype: int64"
      ]
     },
     "execution_count": 9,
     "metadata": {},
     "output_type": "execute_result"
    }
   ],
   "source": [
    "df.isnull().sum()"
   ]
  },
  {
   "cell_type": "markdown",
   "id": "9eef2908",
   "metadata": {},
   "source": [
    "### Pregunta 1: ¿Cuál es el distrito que, de media, tiene los precios más altos? ¿Y los más bajos? ¿Y el barrio?"
   ]
  },
  {
   "cell_type": "code",
   "execution_count": 10,
   "id": "16683f7f",
   "metadata": {},
   "outputs": [
    {
     "data": {
      "text/plain": [
       "district\n",
       "Sarrià-Sant Gervasi    1.062997e+06\n",
       "Name: prices, dtype: float64"
      ]
     },
     "execution_count": 10,
     "metadata": {},
     "output_type": "execute_result"
    }
   ],
   "source": [
    "# Distrito con la media de precio más alta:\n",
    "\n",
    "distritos_media = df.groupby([\"district\"])[\"prices\"].mean()\n",
    "distritos_media.nlargest(1)"
   ]
  },
  {
   "cell_type": "code",
   "execution_count": 11,
   "id": "59585505",
   "metadata": {},
   "outputs": [
    {
     "data": {
      "text/plain": [
       "district\n",
       "Nou Barris    213070.182692\n",
       "Name: prices, dtype: float64"
      ]
     },
     "execution_count": 11,
     "metadata": {},
     "output_type": "execute_result"
    }
   ],
   "source": [
    "# Distrito con la media de precio más baja:\n",
    "\n",
    "distritos_media = df.groupby([\"district\"])[\"prices\"].mean()\n",
    "distritos_media.nsmallest(1)"
   ]
  },
  {
   "cell_type": "code",
   "execution_count": 12,
   "id": "605b1949",
   "metadata": {},
   "outputs": [
    {
     "data": {
      "text/plain": [
       "neighborhood\n",
       "Pedralbes    1.604987e+06\n",
       "Name: prices, dtype: float64"
      ]
     },
     "execution_count": 12,
     "metadata": {},
     "output_type": "execute_result"
    }
   ],
   "source": [
    "# Barrio con la media de precio más alta:\n",
    "\n",
    "barrios_media = df.groupby([\"neighborhood\"])[\"prices\"].mean()\n",
    "barrios_media.nlargest(1)"
   ]
  },
  {
   "cell_type": "code",
   "execution_count": 13,
   "id": "e3e4e532",
   "metadata": {},
   "outputs": [
    {
     "data": {
      "text/plain": [
       "neighborhood\n",
       "la Trinitat Nova    123389.9\n",
       "Name: prices, dtype: float64"
      ]
     },
     "execution_count": 13,
     "metadata": {},
     "output_type": "execute_result"
    }
   ],
   "source": [
    "# Barrio con la media de precio más baja:\n",
    "\n",
    "barrios_media = df.groupby([\"neighborhood\"])[\"prices\"].mean()\n",
    "barrios_media.nsmallest(1)"
   ]
  },
  {
   "cell_type": "markdown",
   "id": "1857fac8",
   "metadata": {},
   "source": [
    "### Pregunta 2: ¿Cuál es la media de m2 y de habitaciones en el distrito más caro? ¿Y en el más barato?"
   ]
  },
  {
   "cell_type": "code",
   "execution_count": 14,
   "id": "e366a3ad",
   "metadata": {},
   "outputs": [
    {
     "name": "stderr",
     "output_type": "stream",
     "text": [
      "C:\\Users\\Pau\\AppData\\Local\\Temp\\ipykernel_14168\\4104685862.py:3: FutureWarning: Indexing with multiple keys (implicitly converted to a tuple of keys) will be deprecated, use a list instead.\n",
      "  espacio_media = df.groupby([\"district\"])[\"area_m2\", \"rooms\"].mean()\n"
     ]
    },
    {
     "data": {
      "text/plain": [
       "area_m2    194.695568\n",
       "rooms        3.980732\n",
       "Name: Sarrià-Sant Gervasi, dtype: float64"
      ]
     },
     "execution_count": 14,
     "metadata": {},
     "output_type": "execute_result"
    }
   ],
   "source": [
    "# Media de m2 y de habitaciones en el distrito más caro:\n",
    "\n",
    "espacio_media = df.groupby([\"district\"])[\"area_m2\", \"rooms\"].mean()\n",
    "espacio_media.loc[\"Sarrià-Sant Gervasi\", [\"area_m2\", \"rooms\"]]"
   ]
  },
  {
   "cell_type": "code",
   "execution_count": 15,
   "id": "49c98b78",
   "metadata": {},
   "outputs": [
    {
     "name": "stderr",
     "output_type": "stream",
     "text": [
      "C:\\Users\\Pau\\AppData\\Local\\Temp\\ipykernel_14168\\1606022333.py:3: FutureWarning: Indexing with multiple keys (implicitly converted to a tuple of keys) will be deprecated, use a list instead.\n",
      "  espacio_media = df.groupby([\"district\"])[\"area_m2\", \"rooms\"].mean()\n"
     ]
    },
    {
     "data": {
      "text/plain": [
       "area_m2    71.048077\n",
       "rooms       2.682692\n",
       "Name: Nou Barris, dtype: float64"
      ]
     },
     "execution_count": 15,
     "metadata": {},
     "output_type": "execute_result"
    }
   ],
   "source": [
    "# Media de m2 y de habitaciones en el distrito más barato:\n",
    "\n",
    "espacio_media = df.groupby([\"district\"])[\"area_m2\", \"rooms\"].mean()\n",
    "espacio_media.loc[\"Nou Barris\", [\"area_m2\", \"rooms\"]]"
   ]
  },
  {
   "cell_type": "markdown",
   "id": "39e20a8a",
   "metadata": {},
   "source": [
    "### Pregunta 3: ¿Qué precio tiene el piso más caro? ¿Y el más barato? ¿Cuál es la diferencia de precio entre ellos?"
   ]
  },
  {
   "cell_type": "code",
   "execution_count": 16,
   "id": "490e21a4",
   "metadata": {},
   "outputs": [
    {
     "data": {
      "text/plain": [
       "12000000"
      ]
     },
     "execution_count": 16,
     "metadata": {},
     "output_type": "execute_result"
    }
   ],
   "source": [
    "df[\"prices\"].max()"
   ]
  },
  {
   "cell_type": "code",
   "execution_count": 17,
   "id": "45446a79",
   "metadata": {},
   "outputs": [
    {
     "data": {
      "text/plain": [
       "49000"
      ]
     },
     "execution_count": 17,
     "metadata": {},
     "output_type": "execute_result"
    }
   ],
   "source": [
    "df[\"prices\"].min()"
   ]
  },
  {
   "cell_type": "code",
   "execution_count": 18,
   "id": "0832526d",
   "metadata": {},
   "outputs": [
    {
     "data": {
      "text/plain": [
       "11951000"
      ]
     },
     "execution_count": 18,
     "metadata": {},
     "output_type": "execute_result"
    }
   ],
   "source": [
    "diferencia = df[\"prices\"].max() - df[\"prices\"].min()\n",
    "diferencia"
   ]
  },
  {
   "cell_type": "markdown",
   "id": "37cfa0e2",
   "metadata": {},
   "source": [
    "### Datos y pruebas random"
   ]
  },
  {
   "cell_type": "code",
   "execution_count": 19,
   "id": "4db31447",
   "metadata": {},
   "outputs": [
    {
     "data": {
      "text/plain": [
       " floor 1        681\n",
       " floor 2        588\n",
       " floor 3        452\n",
       " floor 4        385\n",
       " floor 5        259\n",
       "ground floor    236\n",
       " floor 6        160\n",
       "mezzanine       146\n",
       "Multiple        144\n",
       " floor 7         86\n",
       " floor 8         66\n",
       " floor 9         27\n",
       " floor 10        16\n",
       " floor 14         7\n",
       " floor 11         3\n",
       " floor 12         3\n",
       " floor 25         2\n",
       " floor 16         2\n",
       " floor 19         1\n",
       " floor 21         1\n",
       "Name: floor, dtype: int64"
      ]
     },
     "execution_count": 19,
     "metadata": {},
     "output_type": "execute_result"
    }
   ],
   "source": [
    "# ¿En qué planta suelen estar los pisos?\n",
    "\n",
    "df[\"floor\"].value_counts()"
   ]
  },
  {
   "cell_type": "code",
   "execution_count": 20,
   "id": "43381a70",
   "metadata": {},
   "outputs": [
    {
     "data": {
      "text/plain": [
       "floor\n",
       " floor 21       2.500000e+06\n",
       " floor 19       1.950000e+06\n",
       "Multiple        1.697267e+06\n",
       " floor 25       1.090000e+06\n",
       " floor 9        1.076848e+06\n",
       " floor 14       9.327857e+05\n",
       " floor 11       8.533333e+05\n",
       " floor 10       7.929062e+05\n",
       " floor 7        7.122756e+05\n",
       " floor 8        6.827879e+05\n",
       " floor 6        6.658453e+05\n",
       " floor 5        6.324900e+05\n",
       " floor 4        5.899445e+05\n",
       " floor 1        5.129572e+05\n",
       "mezzanine       5.044304e+05\n",
       " floor 3        4.985168e+05\n",
       "ground floor    4.934839e+05\n",
       " floor 2        4.904492e+05\n",
       " floor 16       3.750000e+05\n",
       " floor 12       2.629333e+05\n",
       "Name: prices, dtype: float64"
      ]
     },
     "execution_count": 20,
     "metadata": {},
     "output_type": "execute_result"
    }
   ],
   "source": [
    "# ¿Cuál es el precio medio por planta?\n",
    "\n",
    "media_planta = df.groupby([\"floor\"])[\"prices\"].mean()\n",
    "media_planta.sort_values(ascending = False)"
   ]
  },
  {
   "cell_type": "code",
   "execution_count": 21,
   "id": "f8298e6c",
   "metadata": {},
   "outputs": [
    {
     "data": {
      "text/html": [
       "<div>\n",
       "<style scoped>\n",
       "    .dataframe tbody tr th:only-of-type {\n",
       "        vertical-align: middle;\n",
       "    }\n",
       "\n",
       "    .dataframe tbody tr th {\n",
       "        vertical-align: top;\n",
       "    }\n",
       "\n",
       "    .dataframe thead th {\n",
       "        text-align: right;\n",
       "    }\n",
       "</style>\n",
       "<table border=\"1\" class=\"dataframe\">\n",
       "  <thead>\n",
       "    <tr style=\"text-align: right;\">\n",
       "      <th></th>\n",
       "      <th>district</th>\n",
       "      <th>neighborhood</th>\n",
       "      <th>condition</th>\n",
       "      <th>type</th>\n",
       "      <th>rooms</th>\n",
       "      <th>area_m2</th>\n",
       "      <th>lift</th>\n",
       "      <th>views</th>\n",
       "      <th>floor</th>\n",
       "      <th>prices</th>\n",
       "      <th>price_m2</th>\n",
       "    </tr>\n",
       "  </thead>\n",
       "  <tbody>\n",
       "    <tr>\n",
       "      <th>0</th>\n",
       "      <td>Eixample</td>\n",
       "      <td>la Dreta de l'Eixample</td>\n",
       "      <td>good condition</td>\n",
       "      <td>Flat</td>\n",
       "      <td>3</td>\n",
       "      <td>351</td>\n",
       "      <td>Yes</td>\n",
       "      <td>exterior</td>\n",
       "      <td>floor 1</td>\n",
       "      <td>2300000</td>\n",
       "      <td>6552</td>\n",
       "    </tr>\n",
       "    <tr>\n",
       "      <th>1</th>\n",
       "      <td>Sarrià-Sant Gervasi</td>\n",
       "      <td>Sant Gervasi - Galvany</td>\n",
       "      <td>good condition</td>\n",
       "      <td>Flat</td>\n",
       "      <td>5</td>\n",
       "      <td>298</td>\n",
       "      <td>Yes</td>\n",
       "      <td>exterior</td>\n",
       "      <td>floor 3</td>\n",
       "      <td>1750000</td>\n",
       "      <td>5872</td>\n",
       "    </tr>\n",
       "    <tr>\n",
       "      <th>2</th>\n",
       "      <td>Eixample</td>\n",
       "      <td>Sant Antoni</td>\n",
       "      <td>good condition</td>\n",
       "      <td>Penthouse</td>\n",
       "      <td>2</td>\n",
       "      <td>90</td>\n",
       "      <td>Yes</td>\n",
       "      <td>exterior</td>\n",
       "      <td>floor 7</td>\n",
       "      <td>590000</td>\n",
       "      <td>6555</td>\n",
       "    </tr>\n",
       "    <tr>\n",
       "      <th>3</th>\n",
       "      <td>Eixample</td>\n",
       "      <td>la Dreta de l'Eixample</td>\n",
       "      <td>good condition</td>\n",
       "      <td>Flat</td>\n",
       "      <td>2</td>\n",
       "      <td>130</td>\n",
       "      <td>Yes</td>\n",
       "      <td>exterior</td>\n",
       "      <td>floor 1</td>\n",
       "      <td>450000</td>\n",
       "      <td>3461</td>\n",
       "    </tr>\n",
       "    <tr>\n",
       "      <th>4</th>\n",
       "      <td>Horta-Guinardó</td>\n",
       "      <td>Can Baró</td>\n",
       "      <td>good condition</td>\n",
       "      <td>Terraced</td>\n",
       "      <td>3</td>\n",
       "      <td>110</td>\n",
       "      <td>No</td>\n",
       "      <td>exterior</td>\n",
       "      <td>Multiple</td>\n",
       "      <td>430000</td>\n",
       "      <td>3909</td>\n",
       "    </tr>\n",
       "  </tbody>\n",
       "</table>\n",
       "</div>"
      ],
      "text/plain": [
       "              district            neighborhood       condition       type  \\\n",
       "0             Eixample  la Dreta de l'Eixample  good condition       Flat   \n",
       "1  Sarrià-Sant Gervasi  Sant Gervasi - Galvany  good condition       Flat   \n",
       "2             Eixample             Sant Antoni  good condition  Penthouse   \n",
       "3             Eixample  la Dreta de l'Eixample  good condition       Flat   \n",
       "4       Horta-Guinardó                Can Baró  good condition   Terraced   \n",
       "\n",
       "   rooms  area_m2 lift     views     floor   prices  price_m2  \n",
       "0      3      351  Yes  exterior   floor 1  2300000      6552  \n",
       "1      5      298  Yes  exterior   floor 3  1750000      5872  \n",
       "2      2       90  Yes  exterior   floor 7   590000      6555  \n",
       "3      2      130  Yes  exterior   floor 1   450000      3461  \n",
       "4      3      110   No  exterior  Multiple   430000      3909  "
      ]
     },
     "execution_count": 21,
     "metadata": {},
     "output_type": "execute_result"
    }
   ],
   "source": [
    "# Crear columna con el precio por metro cuadrado:\n",
    "\n",
    "df[\"price_m2\"] = df[\"prices\"] / df[\"area_m2\"]\n",
    "\n",
    "df[\"price_m2\"] = df[\"price_m2\"].astype('int')\n",
    "\n",
    "df.head()"
   ]
  },
  {
   "cell_type": "code",
   "execution_count": 26,
   "id": "ed76e09e",
   "metadata": {},
   "outputs": [
    {
     "ename": "AttributeError",
     "evalue": "'numpy.ndarray' object has no attribute 'apply'",
     "output_type": "error",
     "traceback": [
      "\u001b[1;31m---------------------------------------------------------------------------\u001b[0m",
      "\u001b[1;31mAttributeError\u001b[0m                            Traceback (most recent call last)",
      "Input \u001b[1;32mIn [26]\u001b[0m, in \u001b[0;36m<cell line: 11>\u001b[1;34m()\u001b[0m\n\u001b[0;32m      7\u001b[0m     localizacion \u001b[38;5;241m=\u001b[39m geoloca\u001b[38;5;241m.\u001b[39mgeocode(distrito)\n\u001b[0;32m      9\u001b[0m     \u001b[38;5;28;01mreturn\u001b[39;00m localizacion\u001b[38;5;241m.\u001b[39mlatitude, localizacion\u001b[38;5;241m.\u001b[39mlongitude\n\u001b[1;32m---> 11\u001b[0m df[\u001b[38;5;124m\"\u001b[39m\u001b[38;5;124mcoordenadas distrito\u001b[39m\u001b[38;5;124m\"\u001b[39m] \u001b[38;5;241m=\u001b[39m \u001b[43mdf\u001b[49m\u001b[43m[\u001b[49m\u001b[38;5;124;43m\"\u001b[39;49m\u001b[38;5;124;43mdistrict\u001b[39;49m\u001b[38;5;124;43m\"\u001b[39;49m\u001b[43m]\u001b[49m\u001b[38;5;241;43m.\u001b[39;49m\u001b[43munique\u001b[49m\u001b[43m(\u001b[49m\u001b[43m)\u001b[49m\u001b[38;5;241;43m.\u001b[39;49m\u001b[43mapply\u001b[49m(sacar_coordenadas)\n\u001b[0;32m     13\u001b[0m df\u001b[38;5;241m.\u001b[39mhead()\n",
      "\u001b[1;31mAttributeError\u001b[0m: 'numpy.ndarray' object has no attribute 'apply'"
     ]
    }
   ],
   "source": [
    "# Crear columna con coordenadas (no la ejecuto ya que tarda mucho en procesar):\n",
    "\n",
    "from geopy.geocoders import Nominatim\n",
    "\n",
    "def sacar_coordenadas(distrito):\n",
    "    geoloca = Nominatim(user_agent= \"pau\")\n",
    "    localizacion = geoloca.geocode(distrito)\n",
    "    \n",
    "    return localizacion.latitude, localizacion.longitude\n",
    "\n",
    "distritos_unicos = df[\"district\"]\n",
    "\n",
    "df[\"coordenadas distrito\"] = df[\"district\"].unique().apply(sacar_coordenadas)\n",
    "\n",
    "df.head()"
   ]
  },
  {
   "cell_type": "code",
   "execution_count": 1,
   "id": "d8ee4ea5",
   "metadata": {},
   "outputs": [
    {
     "ename": "NameError",
     "evalue": "name 'df' is not defined",
     "output_type": "error",
     "traceback": [
      "\u001b[1;31m---------------------------------------------------------------------------\u001b[0m",
      "\u001b[1;31mNameError\u001b[0m                                 Traceback (most recent call last)",
      "Input \u001b[1;32mIn [1]\u001b[0m, in \u001b[0;36m<cell line: 3>\u001b[1;34m()\u001b[0m\n\u001b[0;32m      1\u001b[0m \u001b[38;5;66;03m# Ampliar la columna de coordenadas y crear dos nuevas: lat y long (no la ejecuto ya que tarda mucho en procesar):\u001b[39;00m\n\u001b[1;32m----> 3\u001b[0m df[[\u001b[38;5;124m\"\u001b[39m\u001b[38;5;124mlat\u001b[39m\u001b[38;5;124m\"\u001b[39m, \u001b[38;5;124m\"\u001b[39m\u001b[38;5;124mlong\u001b[39m\u001b[38;5;124m\"\u001b[39m]] \u001b[38;5;241m=\u001b[39m \u001b[43mdf\u001b[49m\u001b[38;5;241m.\u001b[39mapply(\u001b[38;5;28;01mlambda\u001b[39;00m d: sacar_coordenadas(d[\u001b[38;5;124m\"\u001b[39m\u001b[38;5;124mdistrict\u001b[39m\u001b[38;5;124m\"\u001b[39m\u001b[38;5;241m.\u001b[39munique()]), axis \u001b[38;5;241m=\u001b[39m \u001b[38;5;241m1\u001b[39m, result_type \u001b[38;5;241m=\u001b[39m \u001b[38;5;124m\"\u001b[39m\u001b[38;5;124mexpand\u001b[39m\u001b[38;5;124m\"\u001b[39m)\n\u001b[0;32m      5\u001b[0m df\u001b[38;5;241m.\u001b[39mhead()\n",
      "\u001b[1;31mNameError\u001b[0m: name 'df' is not defined"
     ]
    }
   ],
   "source": [
    "# Ampliar la columna de coordenadas y crear dos nuevas: lat y long (no la ejecuto ya que tarda mucho en procesar):\n",
    "\n",
    "df[[\"lat\", \"long\"]] = df.apply(lambda d: sacar_coordenadas(d[\"district\".unique()]), axis = 1, result_type = \"expand\")\n",
    "\n",
    "df.head()"
   ]
  },
  {
   "cell_type": "code",
   "execution_count": 22,
   "id": "14cd304d",
   "metadata": {},
   "outputs": [
    {
     "data": {
      "text/html": [
       "<div>\n",
       "<style scoped>\n",
       "    .dataframe tbody tr th:only-of-type {\n",
       "        vertical-align: middle;\n",
       "    }\n",
       "\n",
       "    .dataframe tbody tr th {\n",
       "        vertical-align: top;\n",
       "    }\n",
       "\n",
       "    .dataframe thead th {\n",
       "        text-align: right;\n",
       "    }\n",
       "</style>\n",
       "<table border=\"1\" class=\"dataframe\">\n",
       "  <thead>\n",
       "    <tr style=\"text-align: right;\">\n",
       "      <th></th>\n",
       "      <th>district</th>\n",
       "      <th>neighborhood</th>\n",
       "      <th>condition</th>\n",
       "      <th>type</th>\n",
       "      <th>rooms</th>\n",
       "      <th>area_m2</th>\n",
       "      <th>lift</th>\n",
       "      <th>views</th>\n",
       "      <th>floor</th>\n",
       "      <th>prices</th>\n",
       "      <th>price_m2</th>\n",
       "      <th>num_crimenes_2019_distrito</th>\n",
       "    </tr>\n",
       "  </thead>\n",
       "  <tbody>\n",
       "    <tr>\n",
       "      <th>1451</th>\n",
       "      <td>Horta-Guinardó</td>\n",
       "      <td>el Baix Guinardó</td>\n",
       "      <td>needs refurb</td>\n",
       "      <td>Flat</td>\n",
       "      <td>5</td>\n",
       "      <td>124</td>\n",
       "      <td>Yes</td>\n",
       "      <td>exterior</td>\n",
       "      <td>floor 3</td>\n",
       "      <td>375000</td>\n",
       "      <td>3024</td>\n",
       "      <td>9996</td>\n",
       "    </tr>\n",
       "    <tr>\n",
       "      <th>1838</th>\n",
       "      <td>Ciutat Vella</td>\n",
       "      <td>el Raval</td>\n",
       "      <td>good condition</td>\n",
       "      <td>Flat</td>\n",
       "      <td>1</td>\n",
       "      <td>60</td>\n",
       "      <td>Yes</td>\n",
       "      <td>interior</td>\n",
       "      <td>floor 1</td>\n",
       "      <td>339000</td>\n",
       "      <td>5650</td>\n",
       "      <td>50436</td>\n",
       "    </tr>\n",
       "    <tr>\n",
       "      <th>57</th>\n",
       "      <td>Eixample</td>\n",
       "      <td>l'Antiga Esquerra de l'Eixample</td>\n",
       "      <td>good condition</td>\n",
       "      <td>Flat</td>\n",
       "      <td>2</td>\n",
       "      <td>132</td>\n",
       "      <td>Yes</td>\n",
       "      <td>exterior</td>\n",
       "      <td>mezzanine</td>\n",
       "      <td>599000</td>\n",
       "      <td>4537</td>\n",
       "      <td>59552</td>\n",
       "    </tr>\n",
       "    <tr>\n",
       "      <th>1569</th>\n",
       "      <td>Les Corts</td>\n",
       "      <td>Pedralbes</td>\n",
       "      <td>good condition</td>\n",
       "      <td>Semi-detached</td>\n",
       "      <td>4</td>\n",
       "      <td>185</td>\n",
       "      <td>No</td>\n",
       "      <td>exterior</td>\n",
       "      <td>Multiple</td>\n",
       "      <td>860000</td>\n",
       "      <td>4648</td>\n",
       "      <td>8627</td>\n",
       "    </tr>\n",
       "    <tr>\n",
       "      <th>3218</th>\n",
       "      <td>Nou Barris</td>\n",
       "      <td>Vilapicina i la Torre Llobeta</td>\n",
       "      <td>new</td>\n",
       "      <td>Flat</td>\n",
       "      <td>2</td>\n",
       "      <td>55</td>\n",
       "      <td>Yes</td>\n",
       "      <td>exterior</td>\n",
       "      <td>floor 2</td>\n",
       "      <td>260000</td>\n",
       "      <td>4727</td>\n",
       "      <td>9226</td>\n",
       "    </tr>\n",
       "    <tr>\n",
       "      <th>1764</th>\n",
       "      <td>Les Corts</td>\n",
       "      <td>la Maternitat i Sant Ramon</td>\n",
       "      <td>needs refurb</td>\n",
       "      <td>Flat</td>\n",
       "      <td>3</td>\n",
       "      <td>79</td>\n",
       "      <td>Yes</td>\n",
       "      <td>exterior</td>\n",
       "      <td>floor 2</td>\n",
       "      <td>279000</td>\n",
       "      <td>3531</td>\n",
       "      <td>8627</td>\n",
       "    </tr>\n",
       "    <tr>\n",
       "      <th>763</th>\n",
       "      <td>Eixample</td>\n",
       "      <td>la Nova Esquerra de l'Eixample</td>\n",
       "      <td>needs refurb</td>\n",
       "      <td>Flat</td>\n",
       "      <td>5</td>\n",
       "      <td>162</td>\n",
       "      <td>Yes</td>\n",
       "      <td>exterior</td>\n",
       "      <td>floor 9</td>\n",
       "      <td>752000</td>\n",
       "      <td>4641</td>\n",
       "      <td>59552</td>\n",
       "    </tr>\n",
       "    <tr>\n",
       "      <th>2015</th>\n",
       "      <td>Ciutat Vella</td>\n",
       "      <td>el Raval</td>\n",
       "      <td>needs refurb</td>\n",
       "      <td>Flat</td>\n",
       "      <td>4</td>\n",
       "      <td>85</td>\n",
       "      <td>No</td>\n",
       "      <td>exterior</td>\n",
       "      <td>floor 2</td>\n",
       "      <td>283000</td>\n",
       "      <td>3329</td>\n",
       "      <td>50436</td>\n",
       "    </tr>\n",
       "    <tr>\n",
       "      <th>1708</th>\n",
       "      <td>Les Corts</td>\n",
       "      <td>Pedralbes</td>\n",
       "      <td>needs refurb</td>\n",
       "      <td>Flat</td>\n",
       "      <td>7</td>\n",
       "      <td>250</td>\n",
       "      <td>Yes</td>\n",
       "      <td>exterior</td>\n",
       "      <td>floor 3</td>\n",
       "      <td>1250000</td>\n",
       "      <td>5000</td>\n",
       "      <td>8627</td>\n",
       "    </tr>\n",
       "    <tr>\n",
       "      <th>1572</th>\n",
       "      <td>Les Corts</td>\n",
       "      <td>la Maternitat i Sant Ramon</td>\n",
       "      <td>good condition</td>\n",
       "      <td>Flat</td>\n",
       "      <td>2</td>\n",
       "      <td>48</td>\n",
       "      <td>Yes</td>\n",
       "      <td>exterior</td>\n",
       "      <td>floor 6</td>\n",
       "      <td>199000</td>\n",
       "      <td>4145</td>\n",
       "      <td>8627</td>\n",
       "    </tr>\n",
       "  </tbody>\n",
       "</table>\n",
       "</div>"
      ],
      "text/plain": [
       "            district                     neighborhood       condition  \\\n",
       "1451  Horta-Guinardó                 el Baix Guinardó    needs refurb   \n",
       "1838    Ciutat Vella                         el Raval  good condition   \n",
       "57          Eixample  l'Antiga Esquerra de l'Eixample  good condition   \n",
       "1569       Les Corts                        Pedralbes  good condition   \n",
       "3218      Nou Barris    Vilapicina i la Torre Llobeta             new   \n",
       "1764       Les Corts       la Maternitat i Sant Ramon    needs refurb   \n",
       "763         Eixample   la Nova Esquerra de l'Eixample    needs refurb   \n",
       "2015    Ciutat Vella                         el Raval    needs refurb   \n",
       "1708       Les Corts                        Pedralbes    needs refurb   \n",
       "1572       Les Corts       la Maternitat i Sant Ramon  good condition   \n",
       "\n",
       "               type  rooms  area_m2 lift     views      floor   prices  \\\n",
       "1451           Flat      5      124  Yes  exterior    floor 3   375000   \n",
       "1838           Flat      1       60  Yes  interior    floor 1   339000   \n",
       "57             Flat      2      132  Yes  exterior  mezzanine   599000   \n",
       "1569  Semi-detached      4      185   No  exterior   Multiple   860000   \n",
       "3218           Flat      2       55  Yes  exterior    floor 2   260000   \n",
       "1764           Flat      3       79  Yes  exterior    floor 2   279000   \n",
       "763            Flat      5      162  Yes  exterior    floor 9   752000   \n",
       "2015           Flat      4       85   No  exterior    floor 2   283000   \n",
       "1708           Flat      7      250  Yes  exterior    floor 3  1250000   \n",
       "1572           Flat      2       48  Yes  exterior    floor 6   199000   \n",
       "\n",
       "      price_m2  num_crimenes_2019_distrito  \n",
       "1451      3024                        9996  \n",
       "1838      5650                       50436  \n",
       "57        4537                       59552  \n",
       "1569      4648                        8627  \n",
       "3218      4727                        9226  \n",
       "1764      3531                        8627  \n",
       "763       4641                       59552  \n",
       "2015      3329                       50436  \n",
       "1708      5000                        8627  \n",
       "1572      4145                        8627  "
      ]
     },
     "execution_count": 22,
     "metadata": {},
     "output_type": "execute_result"
    }
   ],
   "source": [
    "# Hacer un merge a partir de un diccionari que contiene el número total de crímenes de cada distrito en 2019:\n",
    "\n",
    "crimen_distritos = {\"Ciutat Vella\": 50436, \"Eixample\": 59552, \"Sants-Montjuïc\": 25658, \"Les Corts\": 8627, \"Sarrià-Sant Gervasi\": 11118, \"Gràcia\": 9722, \"Horta-Guinardó\": 9996, \"Nou Barris\": 9226, \"Sant Andreu\": 12017, \"Sant Martí\": 27481}\n",
    "\n",
    "df_crimen_distritos = pd.DataFrame(crimen_distritos.items(), columns=['district', 'num_crimenes_2019_distrito'])\n",
    "\n",
    "df_mergeado = df.merge(df_crimen_distritos, on='district')\n",
    "\n",
    "df_mergeado.sample(10)"
   ]
  },
  {
   "cell_type": "markdown",
   "id": "7873dc65",
   "metadata": {},
   "source": [
    "### Probando con visualización"
   ]
  },
  {
   "cell_type": "code",
   "execution_count": 23,
   "id": "404c94a3",
   "metadata": {},
   "outputs": [
    {
     "data": {
      "text/html": [
       "<div>\n",
       "<style scoped>\n",
       "    .dataframe tbody tr th:only-of-type {\n",
       "        vertical-align: middle;\n",
       "    }\n",
       "\n",
       "    .dataframe tbody tr th {\n",
       "        vertical-align: top;\n",
       "    }\n",
       "\n",
       "    .dataframe thead th {\n",
       "        text-align: right;\n",
       "    }\n",
       "</style>\n",
       "<table border=\"1\" class=\"dataframe\">\n",
       "  <thead>\n",
       "    <tr style=\"text-align: right;\">\n",
       "      <th></th>\n",
       "      <th>district</th>\n",
       "      <th>neighborhood</th>\n",
       "      <th>condition</th>\n",
       "      <th>type</th>\n",
       "      <th>rooms</th>\n",
       "      <th>area_m2</th>\n",
       "      <th>lift</th>\n",
       "      <th>views</th>\n",
       "      <th>floor</th>\n",
       "      <th>prices</th>\n",
       "      <th>price_m2</th>\n",
       "    </tr>\n",
       "  </thead>\n",
       "  <tbody>\n",
       "    <tr>\n",
       "      <th>0</th>\n",
       "      <td>Eixample</td>\n",
       "      <td>la Dreta de l'Eixample</td>\n",
       "      <td>good condition</td>\n",
       "      <td>Flat</td>\n",
       "      <td>3</td>\n",
       "      <td>351</td>\n",
       "      <td>Yes</td>\n",
       "      <td>exterior</td>\n",
       "      <td>floor 1</td>\n",
       "      <td>2300000</td>\n",
       "      <td>6552</td>\n",
       "    </tr>\n",
       "    <tr>\n",
       "      <th>1</th>\n",
       "      <td>Sarrià-Sant Gervasi</td>\n",
       "      <td>Sant Gervasi - Galvany</td>\n",
       "      <td>good condition</td>\n",
       "      <td>Flat</td>\n",
       "      <td>5</td>\n",
       "      <td>298</td>\n",
       "      <td>Yes</td>\n",
       "      <td>exterior</td>\n",
       "      <td>floor 3</td>\n",
       "      <td>1750000</td>\n",
       "      <td>5872</td>\n",
       "    </tr>\n",
       "    <tr>\n",
       "      <th>2</th>\n",
       "      <td>Eixample</td>\n",
       "      <td>Sant Antoni</td>\n",
       "      <td>good condition</td>\n",
       "      <td>Penthouse</td>\n",
       "      <td>2</td>\n",
       "      <td>90</td>\n",
       "      <td>Yes</td>\n",
       "      <td>exterior</td>\n",
       "      <td>floor 7</td>\n",
       "      <td>590000</td>\n",
       "      <td>6555</td>\n",
       "    </tr>\n",
       "    <tr>\n",
       "      <th>3</th>\n",
       "      <td>Eixample</td>\n",
       "      <td>la Dreta de l'Eixample</td>\n",
       "      <td>good condition</td>\n",
       "      <td>Flat</td>\n",
       "      <td>2</td>\n",
       "      <td>130</td>\n",
       "      <td>Yes</td>\n",
       "      <td>exterior</td>\n",
       "      <td>floor 1</td>\n",
       "      <td>450000</td>\n",
       "      <td>3461</td>\n",
       "    </tr>\n",
       "    <tr>\n",
       "      <th>4</th>\n",
       "      <td>Horta-Guinardó</td>\n",
       "      <td>Can Baró</td>\n",
       "      <td>good condition</td>\n",
       "      <td>Terraced</td>\n",
       "      <td>3</td>\n",
       "      <td>110</td>\n",
       "      <td>No</td>\n",
       "      <td>exterior</td>\n",
       "      <td>Multiple</td>\n",
       "      <td>430000</td>\n",
       "      <td>3909</td>\n",
       "    </tr>\n",
       "  </tbody>\n",
       "</table>\n",
       "</div>"
      ],
      "text/plain": [
       "              district            neighborhood       condition       type  \\\n",
       "0             Eixample  la Dreta de l'Eixample  good condition       Flat   \n",
       "1  Sarrià-Sant Gervasi  Sant Gervasi - Galvany  good condition       Flat   \n",
       "2             Eixample             Sant Antoni  good condition  Penthouse   \n",
       "3             Eixample  la Dreta de l'Eixample  good condition       Flat   \n",
       "4       Horta-Guinardó                Can Baró  good condition   Terraced   \n",
       "\n",
       "   rooms  area_m2 lift     views     floor   prices  price_m2  \n",
       "0      3      351  Yes  exterior   floor 1  2300000      6552  \n",
       "1      5      298  Yes  exterior   floor 3  1750000      5872  \n",
       "2      2       90  Yes  exterior   floor 7   590000      6555  \n",
       "3      2      130  Yes  exterior   floor 1   450000      3461  \n",
       "4      3      110   No  exterior  Multiple   430000      3909  "
      ]
     },
     "execution_count": 23,
     "metadata": {},
     "output_type": "execute_result"
    }
   ],
   "source": [
    "df.head()"
   ]
  },
  {
   "cell_type": "code",
   "execution_count": 76,
   "id": "054c4cfa",
   "metadata": {},
   "outputs": [
    {
     "data": {
      "image/png": "[encoded data removed]",
      "text/plain": [
       "<Figure size 432x288 with 1 Axes>"
      ]
     },
     "metadata": {
      "needs_background": "light"
     },
     "output_type": "display_data"
    }
   ],
   "source": [
    "import matplotlib.pyplot as plt\n",
    "\n",
    "keys = [distrito for distrito, df in df.groupby(['district'])]\n",
    "\n",
    "plt.bar(keys, df.groupby(['district']).mean()['prices'])\n",
    "plt.title(\"Precio medio de los pisos por distritos\")\n",
    "plt.ylabel('Prices', size=15)\n",
    "plt.xlabel('Districts', size=15)\n",
    "plt.xticks(keys, rotation='vertical', size=10)\n",
    "plt.show()"
   ]
  },
  {
   "cell_type": "code",
   "execution_count": 63,
   "id": "d7c00602",
   "metadata": {},
   "outputs": [
    {
     "data": {
      "image/png": "[encoded data removed]",
      "text/plain": [
       "<Figure size 432x288 with 1 Axes>"
      ]
     },
     "metadata": {},
     "output_type": "display_data"
    }
   ],
   "source": [
    "colores = ['mediumslateblue', 'purple', 'rebeccapurple', 'blueviolet','indigo', 'violet', 'plum', 'mediumorchid', 'darkblue', 'lightblue'] \n",
    "\n",
    "plt.pie(df[\"district\"].value_counts(), \n",
    "        labels = df[\"district\"].unique(), \n",
    "        colors = colores)\n",
    "\n",
    "plt.title(\"Número de pisos por distrito\")\n",
    "plt.legend(bbox_to_anchor=(1.2, 1))\n",
    "plt.show()"
   ]
  },
  {
   "cell_type": "code",
   "execution_count": 75,
   "id": "a5b9196b",
   "metadata": {},
   "outputs": [
    {
     "data": {
      "image/png": "[encoded data removed]",
      "text/plain": [
       "<Figure size 432x288 with 2 Axes>"
      ]
     },
     "metadata": {
      "needs_background": "light"
     },
     "output_type": "display_data"
    }
   ],
   "source": [
    "df_mergeado.corr()\n",
    "\n",
    "import seaborn as sns\n",
    "\n",
    "mask = np.triu(np.ones_like(df_mergeado.corr(), dtype=bool))\n",
    "\n",
    "sns.heatmap(df_mergeado.corr(),\n",
    "            cmap = \"Blues\",\n",
    "            mask = mask,\n",
    "           annot = True).set_title(\"Correlación entre valores del dataset\");"
   ]
  },
  {
   "cell_type": "code",
   "execution_count": 88,
   "id": "0b43a8f4",
   "metadata": {},
   "outputs": [
    {
     "data": {
      "image/png": "[encoded data removed]",
      "text/plain": [
       "<Figure size 432x288 with 1 Axes>"
      ]
     },
     "metadata": {
      "needs_background": "light"
     },
     "output_type": "display_data"
    }
   ],
   "source": [
    "plt.scatter(df_mergeado['prices'], df_mergeado['area_m2'])\n",
    "\n",
    "plt.title(\"Correlación entre los precios y los metros cuadrados de los pisos en matplotlib\")\n",
    "plt.show()"
   ]
  },
  {
   "cell_type": "code",
   "execution_count": 95,
   "id": "dd730864",
   "metadata": {},
   "outputs": [
    {
     "name": "stderr",
     "output_type": "stream",
     "text": [
      "C:\\Users\\Pau\\anaconda3\\lib\\site-packages\\seaborn\\_decorators.py:36: FutureWarning: Pass the following variables as keyword args: x, y. From version 0.12, the only valid positional argument will be `data`, and passing other arguments without an explicit keyword will result in an error or misinterpretation.\n",
      "  warnings.warn(\n"
     ]
    },
    {
     "data": {
      "image/png": "[encoded data removed]",
      "text/plain": [
       "<Figure size 432x288 with 1 Axes>"
      ]
     },
     "metadata": {
      "needs_background": "light"
     },
     "output_type": "display_data"
    }
   ],
   "source": [
    "sns.scatterplot('prices', 'area_m2', data = df_mergeado ,\n",
    "                hue = 'district',\n",
    "                s = 80,\n",
    "               palette = \"cubehelix\").set_title(\"Correlación entre los precios y los metros cuadrados de los pisos en seaborn\")\n",
    "\n",
    "plt.show()"
   ]
  },
  {
   "cell_type": "code",
   "execution_count": 80,
   "id": "21023879",
   "metadata": {},
   "outputs": [
    {
     "data": {
      "image/png": "[encoded data removed]",
      "text/plain": [
       "<Figure size 1080x720 with 2 Axes>"
      ]
     },
     "metadata": {
      "needs_background": "light"
     },
     "output_type": "display_data"
    }
   ],
   "source": [
    "columnas = [\"area_m2\", \"prices\"]\n",
    "\n",
    "fig, ax = plt.subplots(2, 1, figsize=(15,10))\n",
    "\n",
    "for i in range(len(columnas)):\n",
    "    sns.boxplot(x=columnas[i], data=df, ax=ax[i]).set_title(\"Boxplot de los valores de los metros cuadrados y el precio de los pisos\")\n",
    "plt.show()"
   ]
  }
 ],
 "metadata": {
  "kernelspec": {
   "display_name": "Python 3 (ipykernel)",
   "language": "python",
   "name": "python3"
  },
  "language_info": {
   "codemirror_mode": {
    "name": "ipython",
    "version": 3
   },
   "file_extension": ".py",
   "mimetype": "text/x-python",
   "name": "python",
   "nbconvert_exporter": "python",
   "pygments_lexer": "ipython3",
   "version": "3.9.12"
  }
 },
 "nbformat": 4,
 "nbformat_minor": 5
}
